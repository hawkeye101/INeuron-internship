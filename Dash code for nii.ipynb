{
 "cells": [
  {
   "cell_type": "code",
   "execution_count": 2,
   "metadata": {},
   "outputs": [
    {
     "data": {
      "image/png": "[encoded data removed]",
      "text/plain": [
       "<Figure size 432x288 with 2 Axes>"
      ]
     },
     "metadata": {
      "needs_background": "light"
     },
     "output_type": "display_data"
    }
   ],
   "source": [
    "import datetime\n",
    "\n",
    "#!pip install dash\n",
    "import dash\n",
    "from dash.dependencies import Input, Output, State\n",
    "import dash_core_components as dcc\n",
    "import dash_html_components as html\n",
    "\n",
    "#!pip install chardet\n",
    "import chardet\n",
    "\n",
    "#!pip install nibabel\n",
    "import nibabel as nib\n",
    "import os\n",
    "\n",
    "import base64\n",
    "import datetime\n",
    "import io\n",
    "\n",
    "from numpy import *\n",
    "\n",
    "external_stylesheets = ['https://codepen.io/chriddyp/pen/bWLwgP.css']\n",
    "\n",
    "app = dash.Dash(__name__, external_stylesheets=external_stylesheets)\n",
    "\n",
    "app.layout = html.Div([\n",
    "    dcc.Upload(\n",
    "        id='upload-image',\n",
    "        children=html.Div([\n",
    "            html.Button('Upload File')\n",
    "        ]),\n",
    "        style={\n",
    "            'width': '100%',\n",
    "            'height': '60px',\n",
    "            'lineHeight': '60px',\n",
    "            'borderWidth': '1px',\n",
    "            'borderStyle': 'dashed',\n",
    "            'borderRadius': '5px',\n",
    "            'textAlign': 'center',\n",
    "            'margin': '10px'\n",
    "        },\n",
    "        # Allow multiple files to be uploaded\n",
    "        multiple=True\n",
    "    ),\n",
    "    html.Div(id='output-image-upload'),\n",
    "])"
   ]
  },
  {
   "cell_type": "code",
   "execution_count": 55,
   "metadata": {},
   "outputs": [],
   "source": [
    "def parse_contents(contents):\n",
    "    content_type, content_string = contents.split(',')\n",
    "    decoded = base64.b64decode(content_string)\n",
    "    \n",
    "    #print(decoded)\n",
    "    #decoded = reshape(list(decoded),[])(\n",
    "    #print(shape(list(contents)))\n",
    "    #decoded_array = list(decoded)\n",
    "    #print(shape(decoded_array))\n",
    "    #print(decoded_array[0:10])\n",
    "    #decimal = ' '.join([ str(ord(c)) for c in decoded.decode('base64') ])\n",
    "    #print(decimal)\n",
    "\n",
    "    return html.Div([\n",
    "        #html.H5(filename),\n",
    "        #html.H6(datetime.datetime.fromtimestamp(date)),\n",
    "\n",
    "        # HTML images accept base64 encoded strings in the same format\n",
    "        # that is supplied by the upload\n",
    "        #html.Img(src=contents),\n",
    "        #html.Hr(),\n",
    "\n",
    "        #html.Div(decoded)\n",
    "        #html.Div(type(decoded))\n",
    "\n",
    "        #html.Div('Raw Content'),\n",
    "        #html.Pre(contents[0:200] + '...', style={\n",
    "        #    'whiteSpace': 'pre-wrap',\n",
    "        #    'wordBreak': 'break-all'\n",
    "        #})\n",
    "    ])\n",
    "\n",
    "\n",
    "@app.callback(Output('output-image-upload', 'children'),\n",
    "              Input('upload-image', 'contents'))\n",
    "              #State('upload-image', 'filename'),\n",
    "              #State('upload-image', 'last_modified'))\n",
    "\n",
    "def update_output(list_of_contents):\n",
    "    if list_of_contents is not None:\n",
    "        for c in zip(list_of_contents):\n",
    "            print(c) # print(base64.b64decode(c))\n",
    "            print(type(c))\n",
    "            #res = int.from_bytes(c, byteorder ='big')\n",
    "            #print(res)\n",
    "            #children = [parse_contents(c) for c in zip(list_of_contents)]\n",
    "            #return children"
   ]
  },
  {
   "cell_type": "code",
   "execution_count": 56,
   "metadata": {
    "scrolled": true
   },
   "outputs": [
    {
     "name": "stdout",
     "output_type": "stream",
     "text": [
      "Dash is running on http://127.0.0.1:8054/\n",
      "\n",
      "Dash is running on http://127.0.0.1:8054/\n",
      "\n",
      " * Serving Flask app \"__main__\" (lazy loading)\n",
      " * Environment: production\n",
      "\u001b[31m   WARNING: This is a development server. Do not use it in a production deployment.\u001b[0m\n",
      "\u001b[2m   Use a production WSGI server instead.\u001b[0m\n",
      " * Debug mode: on\n",
      "('data:image/jpeg;base64,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',)\n",
      "<class 'tuple'>\n"
     ]
    }
   ],
   "source": [
    "if __name__ == '__main__':\n",
    "    app.run_server(port='8054', debug=True, use_reloader = False)"
   ]
  },
  {
   "cell_type": "code",
   "execution_count": 44,
   "metadata": {},
   "outputs": [
    {
     "name": "stdout",
     "output_type": "stream",
     "text": [
      "[255 255 255 255 255 255 255 255 255 255]\n"
     ]
    },
    {
     "data": {
      "text/plain": [
       "(225, 225, 3)"
      ]
     },
     "execution_count": 44,
     "metadata": {},
     "output_type": "execute_result"
    }
   ],
   "source": [
    "from PIL import Image \n",
    "im1 = Image.open('loved_cat.jpeg')\n",
    "im1 = array(im1)\n",
    "print(im1[:10,0,0])\n",
    "im1.shape\n",
    "#im1.show()"
   ]
  },
  {
   "cell_type": "code",
   "execution_count": 20,
   "metadata": {},
   "outputs": [
    {
     "name": "stdout",
     "output_type": "stream",
     "text": [
      "8315\n",
      "[255, 216, 255, 224, 0, 16, 74, 70, 73, 70]\n",
      "(8315,)\n"
     ]
    }
   ],
   "source": [
    "string='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'\n",
    "decoded = base64.b64decode(string) # , validate = True\n",
    "print(len(decoded))\n",
    "#decoded = decoded.decode(\"utf-8\", \"replace\") # , validate = True\n",
    "#decoded = io.StringIO(decoded.decode('utf-8')) # , validate = True\n",
    "#decoded = base64.decodebytes(decoded)\n",
    "decoded_arr = list(decoded)\n",
    "print(decoded_arr[:10])\n",
    "print(shape(decoded_arr))"
   ]
  },
  {
   "cell_type": "code",
   "execution_count": null,
   "metadata": {},
   "outputs": [],
   "source": []
  }
 ],
 "metadata": {
  "kernelspec": {
   "display_name": "Python 3",
   "language": "python",
   "name": "python3"
  },
  "language_info": {
   "codemirror_mode": {
    "name": "ipython",
    "version": 3
   },
   "file_extension": ".py",
   "mimetype": "text/x-python",
   "name": "python",
   "nbconvert_exporter": "python",
   "pygments_lexer": "ipython3",
   "version": "3.8.5"
  }
 },
 "nbformat": 4,
 "nbformat_minor": 2
}
